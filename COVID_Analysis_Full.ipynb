{
 "cells": [
  {
   "cell_type": "markdown",
   "id": "7bb4ccbf",
   "metadata": {},
   "source": [
    "# COVID-19 Data Analysis\n",
    "This project involves the analysis of COVID-19 data, including calculations and visualizations."
   ]
  },
  {
   "cell_type": "code",
   "execution_count": null,
   "id": "dcd8e802",
   "metadata": {},
   "outputs": [],
   "source": [
    "import pandas as pd"
   ]
  },
  {
   "cell_type": "markdown",
   "id": "0cd9a504",
   "metadata": {},
   "source": [
    "## Load Data\n",
    "Here we load the data. Note that direct loading from the provided GitHub link might not work due to it being an HTML page, not a direct file link. You should download the file and use a direct path or adjust the URL to point to the raw file version."
   ]
  },
  {
   "cell_type": "code",
   "execution_count": null,
   "id": "6f2d4f77",
   "metadata": {},
   "outputs": [],
   "source": [
    "# Incorrect way to load data due to GitHub HTML page\n",
    "# data_path = 'https://github.com/Itcharles/Data-Analyst-Project---Covid-cases/blob/099eceed7a11db3d2444ddffeabf3c834968416c/1.%20Covid%20cases.xlsx'\n",
    "# Correct way after downloading the file or adjusting the URL\n",
    "# covid_data = pd.read_excel(data_path)"
   ]
  },
  {
   "cell_type": "markdown",
   "id": "75458f29",
   "metadata": {},
   "source": [
    "## Query 1: Total Number of Cases and Deaths, and the Mortality Rate\n",
    "Filter rows to include only those with a non-empty value in the 'continent' column. Calculate the total number of cases and deaths, and then calculate the mortality rate."
   ]
  },
  {
   "cell_type": "code",
   "execution_count": null,
   "id": "a311e666",
   "metadata": {},
   "outputs": [],
   "source": [
    "# Placeholder for Query 1 code"
   ]
  },
  {
   "cell_type": "markdown",
   "id": "601071ca",
   "metadata": {},
   "source": [
    "## Query 2: Total Death by Continent\n",
    "Group the data by continent and calculate the sum of new deaths, then sort by the total deaths."
   ]
  },
  {
   "cell_type": "code",
   "execution_count": null,
   "id": "368bc066",
   "metadata": {},
   "outputs": [],
   "source": [
    "# Placeholder for Query 2 code"
   ]
  },
  {
   "cell_type": "markdown",
   "id": "c170a843",
   "metadata": {},
   "source": [
    "## Query 3: People Infected and Percentage Infected Per Country\n",
    "Aggregate data to calculate the maximum number of infected individuals and the percentage of the population that is infected, then sort by the percentage."
   ]
  },
  {
   "cell_type": "code",
   "execution_count": null,
   "id": "4e0e4e08",
   "metadata": {},
   "outputs": [],
   "source": [
    "# Placeholder for Query 3 code"
   ]
  },
  {
   "cell_type": "markdown",
   "id": "02a7debb",
   "metadata": {},
   "source": [
    "## Query 4: Total People Infection History Per Country\n",
    "Aggregate data to calculate the maximum number of infected individuals over time and the percentage of the population that is infected, then sort by the percentage."
   ]
  },
  {
   "cell_type": "code",
   "execution_count": null,
   "id": "e858573f",
   "metadata": {},
   "outputs": [],
   "source": [
    "# Placeholder for Query 4 code"
   ]
  }
 ],
 "metadata": {},
 "nbformat": 4,
 "nbformat_minor": 5
}
