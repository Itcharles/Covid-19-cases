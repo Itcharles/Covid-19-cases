import pandas as pd
import matplotlib.pyplot as plt


# Load data
data_path = 'Your directory\\CovidDeaths csv.csv'
covid_data = pd.read_csv(data_path)


# Query 1: Total number of cases and deaths and the mortality rate

# Filter rows to include only those with a non-empty value in the 'continent' column
filtered_data = covid_data[covid_data['continent'].notna()]

# Aggregate data, calculating the sum of new cases and deaths
aggregated_data = {
    'total_cases': filtered_data['new_cases'].sum(),
    'total_deaths': filtered_data['new_deaths'].sum()
}

# Calculate the mortality rate
aggregated_data['death_percentage'] = (aggregated_data['total_deaths'] / aggregated_data['total_cases']) * 100


print(aggregated_data) 



#2 
